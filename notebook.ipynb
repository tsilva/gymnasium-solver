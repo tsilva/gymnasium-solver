{
 "cells": [
  {
   "cell_type": "markdown",
   "id": "fae7ff8f",
   "metadata": {},
   "source": [
    "# Environment Solver"
   ]
  },
  {
   "cell_type": "code",
   "execution_count": 13,
   "id": "768cf7f1",
   "metadata": {},
   "outputs": [
    {
     "name": "stdout",
     "output_type": "stream",
     "text": [
      "The autoreload extension is already loaded. To reload it, use:\n",
      "  %reload_ext autoreload\n"
     ]
    }
   ],
   "source": [
    "# Enable autoreloading of modules\n",
    "%load_ext autoreload\n",
    "%autoreload 2"
   ]
  },
  {
   "cell_type": "code",
   "execution_count": 14,
   "id": "0a074cf9",
   "metadata": {},
   "outputs": [],
   "source": [
    "ENV_ID = \"CartPole-v1\"\n",
    "#ENV_ID = \"LunarLander-v3\"\n",
    "ALGORITHM = \"reinforce\"  # Change to \"reinforce\" for REINFORCE algorithm\n",
    "#ALGORITHM = \"ppo\""
   ]
  },
  {
   "cell_type": "markdown",
   "id": "d3ecffa8",
   "metadata": {},
   "source": [
    "Install packages:"
   ]
  },
  {
   "cell_type": "code",
   "execution_count": 15,
   "id": "9b165239",
   "metadata": {},
   "outputs": [],
   "source": [
    "from utils.environment import suppress_warnings\n",
    "\n",
    "# Suppress common warnings\n",
    "suppress_warnings()"
   ]
  },
  {
   "cell_type": "markdown",
   "id": "0b028503",
   "metadata": {},
   "source": [
    "Load secrets:"
   ]
  },
  {
   "cell_type": "code",
   "execution_count": 16,
   "id": "5101c4ca",
   "metadata": {},
   "outputs": [],
   "source": [
    "from tsilva_notebook_utils.colab import load_secrets_into_env\n",
    "\n",
    "_ = load_secrets_into_env([\n",
    "    'WANDB_API_KEY'\n",
    "])"
   ]
  },
  {
   "cell_type": "code",
   "execution_count": 17,
   "id": "8d847b88",
   "metadata": {},
   "outputs": [
    {
     "name": "stdout",
     "output_type": "stream",
     "text": [
      "Loaded config for CartPole-v1 with reinforce algorithm:\n",
      "RLConfig(env_id='CartPole-v1', seed=42, max_epochs=-1, gamma=0.99, lam=0.95, clip_epsilon=0.2, batch_size=512, train_rollout_steps=2048, eval_interval=20, eval_episodes=5, reward_threshold=475, policy_lr=0.001, value_lr=0.001, hidden_dim=32, entropy_coef=0.02, normalize=False, mean_reward_window=100, rollout_interval=1, n_envs='auto', async_rollouts=True)\n"
     ]
    }
   ],
   "source": [
    "import torch.nn as nn\n",
    "from tsilva_notebook_utils.gymnasium import build_env as _build_env, set_random_seed\n",
    "from utils.config import load_config\n",
    "\n",
    "# Load configuration from YAML files\n",
    "CONFIG = load_config(ENV_ID, ALGORITHM)\n",
    "print(f\"Loaded config for {ENV_ID} with {ALGORITHM} algorithm:\")\n",
    "print(CONFIG)"
   ]
  },
  {
   "cell_type": "markdown",
   "id": "e90fd389",
   "metadata": {},
   "source": [
    "Build environment:"
   ]
  },
  {
   "cell_type": "code",
   "execution_count": 18,
   "id": "7605ffa4",
   "metadata": {},
   "outputs": [
    {
     "name": "stdout",
     "output_type": "stream",
     "text": [
      "Environment Info (SubprocVecEnv with 12 envs)\n",
      "  Env ID: CartPole-v1\n",
      "  Observation space: Box(low=[-4.8, -inf, -0.419, -inf], high=[4.8, inf, 0.419, inf], shape=(4,), dtype=float32)\n",
      "  Action space: Discrete(2)\n",
      "  Max episode steps: 500\n"
     ]
    }
   ],
   "source": [
    "from tsilva_notebook_utils.gymnasium import log_env_info\n",
    "from utils.environment import setup_environment\n",
    "\n",
    "# Setup environment with configuration\n",
    "build_env_fn = setup_environment(CONFIG)\n",
    "\n",
    "# Test building env\n",
    "env = build_env_fn(CONFIG.seed)\n",
    "log_env_info(env)"
   ]
  },
  {
   "cell_type": "markdown",
   "id": "123f099b",
   "metadata": {},
   "source": [
    "Define models:"
   ]
  },
  {
   "cell_type": "code",
   "execution_count": 19,
   "id": "b6bad226",
   "metadata": {},
   "outputs": [
    {
     "name": "stdout",
     "output_type": "stream",
     "text": [
      "Default device: cuda\n",
      "Policy model device: cuda:0\n",
      "Rollout collector type: <class 'utils.rollouts.AsyncRolloutCollector'>\n"
     ]
    },
    {
     "name": "stderr",
     "output_type": "stream",
     "text": [
      "\u001b[34m\u001b[1mwandb\u001b[0m: Currently logged in as: \u001b[33mtsilva\u001b[0m to \u001b[32mhttps://api.wandb.ai\u001b[0m. Use \u001b[1m`wandb login --relogin`\u001b[0m to force relogin\n"
     ]
    },
    {
     "data": {
      "text/html": [
       "Tracking run with wandb version 0.21.0"
      ],
      "text/plain": [
       "<IPython.core.display.HTML object>"
      ]
     },
     "metadata": {},
     "output_type": "display_data"
    },
    {
     "data": {
      "text/html": [
       "Run data is saved locally in <code>./wandb/run-20250716_202822-knta7vom</code>"
      ],
      "text/plain": [
       "<IPython.core.display.HTML object>"
      ]
     },
     "metadata": {},
     "output_type": "display_data"
    },
    {
     "data": {
      "text/html": [
       "Syncing run <strong><a href='https://wandb.ai/tsilva/CartPole-v1/runs/knta7vom' target=\"_blank\">reinforce-42</a></strong> to <a href='https://wandb.ai/tsilva/CartPole-v1' target=\"_blank\">Weights & Biases</a> (<a href='https://wandb.me/developer-guide' target=\"_blank\">docs</a>)<br>"
      ],
      "text/plain": [
       "<IPython.core.display.HTML object>"
      ]
     },
     "metadata": {},
     "output_type": "display_data"
    },
    {
     "data": {
      "text/html": [
       " View project at <a href='https://wandb.ai/tsilva/CartPole-v1' target=\"_blank\">https://wandb.ai/tsilva/CartPole-v1</a>"
      ],
      "text/plain": [
       "<IPython.core.display.HTML object>"
      ]
     },
     "metadata": {},
     "output_type": "display_data"
    },
    {
     "data": {
      "text/html": [
       " View run at <a href='https://wandb.ai/tsilva/CartPole-v1/runs/knta7vom' target=\"_blank\">https://wandb.ai/tsilva/CartPole-v1/runs/knta7vom</a>"
      ],
      "text/plain": [
       "<IPython.core.display.HTML object>"
      ]
     },
     "metadata": {},
     "output_type": "display_data"
    },
    {
     "name": "stderr",
     "output_type": "stream",
     "text": [
      "GPU available: True (cuda), used: True\n",
      "TPU available: False, using: 0 TPU cores\n",
      "HPU available: False, using: 0 HPUs\n",
      "You are using a CUDA device ('NVIDIA GeForce RTX 4090') that has Tensor Cores. To properly utilize them, you should set `torch.set_float32_matmul_precision('medium' | 'high')` which will trade-off precision for performance. For more details, read https://pytorch.org/docs/stable/generated/torch.set_float32_matmul_precision.html#torch.set_float32_matmul_precision\n"
     ]
    },
    {
     "name": "stdout",
     "output_type": "stream",
     "text": [
      "🔗 W&B Run: https://wandb.ai/tsilva/CartPole-v1/runs/knta7vom\n",
      "Waiting for initial rollout...\n",
      "Still waiting for rollout...\n",
      "Still waiting for rollout...\n"
     ]
    },
    {
     "name": "stderr",
     "output_type": "stream",
     "text": [
      "LOCAL_RANK: 0 - CUDA_VISIBLE_DEVICES: [0]\n",
      "\n",
      "  | Name         | Type      | Params | Mode \n",
      "---------------------------------------------------\n",
      "0 | policy_model | PolicyNet | 226    | train\n",
      "---------------------------------------------------\n",
      "226       Trainable params\n",
      "0         Non-trainable params\n",
      "226       Total params\n",
      "0.001     Total estimated model params size (MB)\n",
      "5         Modules in train mode\n",
      "0         Modules in eval mode\n"
     ]
    },
    {
     "name": "stdout",
     "output_type": "stream",
     "text": [
      "Training started at 2025-07-16 20:28:27\n"
     ]
    },
    {
     "data": {
      "application/vnd.jupyter.widget-view+json": {
       "model_id": "abd9febea2fb45d8afb3221412c9fa65",
       "version_major": 2,
       "version_minor": 0
      },
      "text/plain": [
       "Training: |          | 0/? [00:00<?, ?it/s]"
      ]
     },
     "metadata": {},
     "output_type": "display_data"
    },
    {
     "name": "stderr",
     "output_type": "stream",
     "text": [
      "\n",
      "Detected KeyboardInterrupt, attempting graceful shutdown ...\n"
     ]
    },
    {
     "data": {
      "text/html": [],
      "text/plain": [
       "<IPython.core.display.HTML object>"
      ]
     },
     "metadata": {},
     "output_type": "display_data"
    },
    {
     "name": "stderr",
     "output_type": "stream",
     "text": [
      "\u001b[34m\u001b[1mwandb\u001b[0m: \u001b[32m\u001b[41mERROR\u001b[0m Problem finishing run\n"
     ]
    },
    {
     "name": "stdout",
     "output_type": "stream",
     "text": [
      "[WandbCleanup] run.finish() failed: \n"
     ]
    },
    {
     "name": "stderr",
     "output_type": "stream",
     "text": [
      "Exception in thread Thread-9 (_collect_loop):\n",
      "Traceback (most recent call last):\n",
      "  File \"/usr/lib/python3.10/threading.py\", line 1016, in _bootstrap_inner\n",
      "    self.run()\n",
      "  File \"/home/tsilva/repos/tsilva/gymnasium-solver/.venv/lib/python3.10/site-packages/ipykernel/ipkernel.py\", line 766, in run_closure\n",
      "    _threading_Thread_run(self)\n",
      "  File \"/usr/lib/python3.10/threading.py\", line 953, in run\n",
      "    self._target(*self._args, **self._kwargs)\n",
      "  File \"/home/tsilva/repos/tsilva/gymnasium-solver/utils/rollouts.py\", line 384, in _collect_loop\n",
      "    trajectories, extras = collect_rollouts(\n",
      "  File \"/home/tsilva/repos/tsilva/gymnasium-solver/utils/rollouts.py\", line 111, in collect_rollouts\n",
      "    next_obs, reward, done, infos = env.step(act_t.cpu().numpy())\n",
      "  File \"/home/tsilva/repos/tsilva/gymnasium-solver/.venv/lib/python3.10/site-packages/stable_baselines3/common/vec_env/base_vec_env.py\", line 222, in step\n",
      "    return self.step_wait()\n",
      "  File \"/home/tsilva/repos/tsilva/gymnasium-solver/.venv/lib/python3.10/site-packages/stable_baselines3/common/vec_env/subproc_vec_env.py\", line 137, in step_wait\n",
      "    results = [remote.recv() for remote in self.remotes]\n",
      "  File \"/home/tsilva/repos/tsilva/gymnasium-solver/.venv/lib/python3.10/site-packages/stable_baselines3/common/vec_env/subproc_vec_env.py\", line 137, in <listcomp>\n",
      "    results = [remote.recv() for remote in self.remotes]\n",
      "  File \"/usr/lib/python3.10/multiprocessing/connection.py\", line 250, in recv\n",
      "    buf = self._recv_bytes()\n",
      "  File \"/usr/lib/python3.10/multiprocessing/connection.py\", line 414, in _recv_bytes\n",
      "    buf = self._recv(4)\n",
      "  File \"/usr/lib/python3.10/multiprocessing/connection.py\", line 379, in _recv\n",
      "    chunk = read(handle, remaining)\n",
      "ConnectionResetError: [Errno 104] Connection reset by peer\n"
     ]
    },
    {
     "ename": "SystemExit",
     "evalue": "1",
     "output_type": "error",
     "traceback": [
      "An exception has occurred, use %tb to see the full traceback.\n",
      "\u001b[0;31mSystemExit\u001b[0m\u001b[0;31m:\u001b[0m 1\n"
     ]
    },
    {
     "name": "stderr",
     "output_type": "stream",
     "text": [
      "/home/tsilva/repos/tsilva/gymnasium-solver/.venv/lib/python3.10/site-packages/IPython/core/interactiveshell.py:3587: UserWarning: To exit: use 'exit', 'quit', or Ctrl-D.\n",
      "  warn(\"To exit: use 'exit', 'quit', or Ctrl-D.\", stacklevel=1)\n"
     ]
    }
   ],
   "source": [
    "import numpy as np\n",
    "from utils.training import create_agent, create_trainer\n",
    "from tsilva_notebook_utils.torch import get_default_device\n",
    "\n",
    "# Get environment dimensions\n",
    "obs_dim = env.observation_space.shape[0]\n",
    "act_dim = env.action_space.n if hasattr(env.action_space, 'n') else env.action_space.shape[0]\n",
    "\n",
    "# Debug device information\n",
    "print(f\"Default device: {get_default_device()}\")\n",
    "\n",
    "# Create agent using utility function\n",
    "agent = create_agent(CONFIG, build_env_fn, obs_dim, act_dim, algorithm=ALGORITHM)\n",
    "\n",
    "# Debug model devices\n",
    "print(f\"Policy model device: {next(agent.policy_model.parameters()).device}\")\n",
    "if hasattr(agent, 'value_model') and agent.value_model is not None:\n",
    "    print(f\"Value model device: {next(agent.value_model.parameters()).device}\")\n",
    "print(f\"Rollout collector type: {type(agent.rollout_collector)}\")\n",
    "\n",
    "# Create trainer with W&B logging\n",
    "trainer = create_trainer(CONFIG, project_name=ENV_ID, run_name=f\"{ALGORITHM}-{CONFIG.seed}\")\n",
    "\n",
    "# Fit the model\n",
    "trainer.fit(agent)"
   ]
  },
  {
   "cell_type": "code",
   "execution_count": null,
   "id": "8966dc5f",
   "metadata": {},
   "outputs": [],
   "source": [
    "from utils.evaluation import evaluate_agent\n",
    "\n",
    "# Evaluate agent and render episodes\n",
    "results = evaluate_agent(\n",
    "    agent, \n",
    "    build_env_fn, \n",
    "    n_episodes=8, \n",
    "    deterministic=True, \n",
    "    render=True,\n",
    "    grid=(2, 2), \n",
    "    text_color=(0, 0, 0), \n",
    "    out_dir=\"./tmp\"\n",
    ")\n",
    "\n",
    "print(f\"Mean reward: {results['mean_reward']:.2f}\")"
   ]
  },
  {
   "cell_type": "code",
   "execution_count": null,
   "id": "03fc5b86",
   "metadata": {},
   "outputs": [],
   "source": [
    "from utils.training import get_monitoring_info\n",
    "\n",
    "# Get monitoring information\n",
    "monitoring_info = get_monitoring_info()\n",
    "\n",
    "print(\"Key metrics to watch on W&B dashboard:\")\n",
    "for metric in monitoring_info[\"primary_metrics\"]:\n",
    "    print(f\"  - {metric}\")\n",
    "\n",
    "print(\"\\nWarning conditions:\")\n",
    "for condition, action in monitoring_info[\"warning_conditions\"].items():\n",
    "    print(f\"  - {condition}: {action}\")"
   ]
  }
 ],
 "metadata": {
  "kernelspec": {
   "display_name": ".venv",
   "language": "python",
   "name": "python3"
  },
  "language_info": {
   "codemirror_mode": {
    "name": "ipython",
    "version": 3
   },
   "file_extension": ".py",
   "mimetype": "text/x-python",
   "name": "python",
   "nbconvert_exporter": "python",
   "pygments_lexer": "ipython3",
   "version": "3.10.12"
  }
 },
 "nbformat": 4,
 "nbformat_minor": 5
}
