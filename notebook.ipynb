{
 "cells": [
  {
   "cell_type": "markdown",
   "id": "fae7ff8f",
   "metadata": {},
   "source": [
    "# Environment Solver"
   ]
  },
  {
   "cell_type": "code",
   "execution_count": 1,
   "id": "768cf7f1",
   "metadata": {},
   "outputs": [],
   "source": [
    "# Enable autoreloading of modules\n",
    "%load_ext autoreload\n",
    "%autoreload 2"
   ]
  },
  {
   "cell_type": "code",
   "execution_count": 2,
   "id": "0a074cf9",
   "metadata": {},
   "outputs": [],
   "source": [
    "ENV_ID = \"CartPole-v1\"\n",
    "#ENV_ID = \"LunarLander-v3\"\n",
    "#ALGORITHM = \"reinforce\"\n",
    "ALGORITHM = \"ppo\""
   ]
  },
  {
   "cell_type": "markdown",
   "id": "d3ecffa8",
   "metadata": {},
   "source": [
    "Install packages:"
   ]
  },
  {
   "cell_type": "code",
   "execution_count": 3,
   "id": "9b165239",
   "metadata": {},
   "outputs": [],
   "source": [
    "from utils.environment import suppress_warnings\n",
    "\n",
    "# Suppress common warnings\n",
    "suppress_warnings()"
   ]
  },
  {
   "cell_type": "markdown",
   "id": "0b028503",
   "metadata": {},
   "source": [
    "Load secrets:"
   ]
  },
  {
   "cell_type": "code",
   "execution_count": 4,
   "id": "5101c4ca",
   "metadata": {},
   "outputs": [],
   "source": [
    "from tsilva_notebook_utils.colab import load_secrets_into_env\n",
    "\n",
    "_ = load_secrets_into_env([\n",
    "    'WANDB_API_KEY'\n",
    "])"
   ]
  },
  {
   "cell_type": "code",
   "execution_count": 5,
   "id": "8d847b88",
   "metadata": {},
   "outputs": [
    {
     "name": "stdout",
     "output_type": "stream",
     "text": [
      "Loaded config for CartPole-v1 with ppo algorithm:\n",
      "RLConfig(env_id='CartPole-v1', seed=42, max_epochs=-1, gamma=0.99, lam=0.95, clip_epsilon=0.2, batch_size=256, train_rollout_steps=512, eval_interval=20, eval_episodes=5, reward_threshold=475, policy_lr=0.001, value_lr=0.001, hidden_dim=32, entropy_coef=0.01, shared_backbone=True, backbone_dim=64, normalize=False, mean_reward_window=100, rollout_interval=1, n_envs='auto', async_rollouts=True)\n"
     ]
    }
   ],
   "source": [
    "import torch.nn as nn\n",
    "from tsilva_notebook_utils.gymnasium import build_env as _build_env, set_random_seed\n",
    "from utils.config import load_config\n",
    "\n",
    "# Load configuration from YAML files\n",
    "CONFIG = load_config(ENV_ID, ALGORITHM)\n",
    "print(f\"Loaded config for {ENV_ID} with {ALGORITHM} algorithm:\")\n",
    "print(CONFIG)"
   ]
  },
  {
   "cell_type": "markdown",
   "id": "e90fd389",
   "metadata": {},
   "source": [
    "Build environment:"
   ]
  },
  {
   "cell_type": "code",
   "execution_count": 6,
   "id": "7605ffa4",
   "metadata": {},
   "outputs": [
    {
     "name": "stdout",
     "output_type": "stream",
     "text": [
      "Environment Info (SubprocVecEnv with 12 envs)\n",
      "  Env ID: CartPole-v1\n",
      "  Observation space: Box(low=[-4.8, -inf, -0.419, -inf], high=[4.8, inf, 0.419, inf], shape=(4,), dtype=float32)\n",
      "  Action space: Discrete(2)\n",
      "  Max episode steps: 500\n"
     ]
    }
   ],
   "source": [
    "from tsilva_notebook_utils.gymnasium import log_env_info\n",
    "from utils.environment import setup_environment\n",
    "\n",
    "# Setup environment with configuration\n",
    "build_env_fn = setup_environment(CONFIG)\n",
    "\n",
    "# Test building env\n",
    "env = build_env_fn(CONFIG.seed)\n",
    "log_env_info(env)"
   ]
  },
  {
   "cell_type": "markdown",
   "id": "123f099b",
   "metadata": {},
   "source": [
    "Define models:"
   ]
  },
  {
   "cell_type": "code",
   "execution_count": 20,
   "id": "b6bad226",
   "metadata": {},
   "outputs": [
    {
     "name": "stdout",
     "output_type": "stream",
     "text": [
      "Default device: cuda\n",
      "Policy model device: cuda:0\n",
      "Value model device: cuda:0\n",
      "Rollout collector type: <class 'utils.rollouts.SyncRolloutCollector'>\n",
      "Policy model device: cuda:0\n",
      "Value model device: cuda:0\n",
      "Rollout collector type: <class 'utils.rollouts.SyncRolloutCollector'>\n"
     ]
    },
    {
     "name": "stderr",
     "output_type": "stream",
     "text": [
      "GPU available: True (cuda), used: True\n",
      "TPU available: False, using: 0 TPU cores\n",
      "HPU available: False, using: 0 HPUs\n",
      "TPU available: False, using: 0 TPU cores\n",
      "HPU available: False, using: 0 HPUs\n"
     ]
    },
    {
     "name": "stdout",
     "output_type": "stream",
     "text": [
      "🔗 W&B Run: https://wandb.ai/tsilva/CartPole-v1/runs/z3enerfv\n",
      "Waiting for initial rollout...\n"
     ]
    },
    {
     "name": "stderr",
     "output_type": "stream",
     "text": [
      "LOCAL_RANK: 0 - CUDA_VISIBLE_DEVICES: [0]\n",
      "\n",
      "  | Name         | Type              | Params | Mode \n",
      "-----------------------------------------------------------\n",
      "0 | policy_model | SharedPolicyNet   | 4.6 K  | train\n",
      "1 | value_model  | SharedValueNet    | 4.6 K  | train\n",
      "2 | shared_model | SharedBackboneNet | 4.6 K  | eval \n",
      "-----------------------------------------------------------\n",
      "4.6 K     Trainable params\n",
      "0         Non-trainable params\n",
      "4.6 K     Total params\n",
      "0.018     Total estimated model params size (MB)\n",
      "2         Modules in train mode\n",
      "12        Modules in eval mode\n",
      "\n",
      "  | Name         | Type              | Params | Mode \n",
      "-----------------------------------------------------------\n",
      "0 | policy_model | SharedPolicyNet   | 4.6 K  | train\n",
      "1 | value_model  | SharedValueNet    | 4.6 K  | train\n",
      "2 | shared_model | SharedBackboneNet | 4.6 K  | eval \n",
      "-----------------------------------------------------------\n",
      "4.6 K     Trainable params\n",
      "0         Non-trainable params\n",
      "4.6 K     Total params\n",
      "0.018     Total estimated model params size (MB)\n",
      "2         Modules in train mode\n",
      "12        Modules in eval mode\n"
     ]
    },
    {
     "name": "stdout",
     "output_type": "stream",
     "text": [
      "Training started at 2025-07-16 22:27:53\n"
     ]
    },
    {
     "name": "stderr",
     "output_type": "stream",
     "text": [
      "/home/tsilva/repos/tsilva/gymnasium-solver/.venv/lib/python3.10/site-packages/pytorch_lightning/trainer/connectors/data_connector.py:425: The 'train_dataloader' does not have many workers which may be a bottleneck. Consider increasing the value of the `num_workers` argument` to `num_workers=11` in the `DataLoader` to improve performance.\n"
     ]
    },
    {
     "data": {
      "application/vnd.jupyter.widget-view+json": {
       "model_id": "1e574867385c400d96717af67ad25dc4",
       "version_major": 2,
       "version_minor": 0
      },
      "text/plain": [
       "Training: |          | 0/? [00:00<?, ?it/s]"
      ]
     },
     "metadata": {},
     "output_type": "display_data"
    },
    {
     "name": "stdout",
     "output_type": "stream",
     "text": [
      "Early stopping at epoch 39 with eval mean reward 497.00 >= threshold 475\n",
      "Training completed in 71.09 seconds (1.18 minutes)\n",
      "Training completed in 71.09 seconds (1.18 minutes)\n"
     ]
    }
   ],
   "source": [
    "import numpy as np\n",
    "from utils.training import create_agent, create_trainer\n",
    "from tsilva_notebook_utils.torch import get_default_device\n",
    "\n",
    "# Get environment dimensions\n",
    "obs_dim = env.observation_space.shape[0]\n",
    "act_dim = env.action_space.n if hasattr(env.action_space, 'n') else env.action_space.shape[0]\n",
    "\n",
    "# Debug device information\n",
    "print(f\"Default device: {get_default_device()}\")\n",
    "\n",
    "# Create agent using utility function\n",
    "agent = create_agent(CONFIG, build_env_fn, obs_dim, act_dim, algorithm=ALGORITHM)\n",
    "\n",
    "# Debug model devices\n",
    "print(f\"Policy model device: {next(agent.policy_model.parameters()).device}\")\n",
    "if hasattr(agent, 'value_model') and agent.value_model is not None:\n",
    "    print(f\"Value model device: {next(agent.value_model.parameters()).device}\")\n",
    "print(f\"Rollout collector type: {type(agent.rollout_collector)}\")\n",
    "\n",
    "# Create trainer with W&B logging\n",
    "trainer = create_trainer(CONFIG, project_name=ENV_ID, run_name=f\"{ALGORITHM}-{CONFIG.seed}\")\n",
    "\n",
    "# Fit the model\n",
    "trainer.fit(agent)"
   ]
  },
  {
   "cell_type": "code",
   "execution_count": 8,
   "id": "8966dc5f",
   "metadata": {},
   "outputs": [
    {
     "name": "stderr",
     "output_type": "stream",
     "text": [
      "/home/tsilva/repos/tsilva/gymnasium-solver/.venv/lib/python3.10/site-packages/pygame/pkgdata.py:25: UserWarning: pkg_resources is deprecated as an API. See https://setuptools.pypa.io/en/latest/pkg_resources.html. The pkg_resources package is slated for removal as early as 2025-11-30. Refrain from using this package or pin to Setuptools<81.\n",
      "  from pkg_resources import resource_stream, resource_exists\n",
      "/home/tsilva/repos/tsilva/gymnasium-solver/.venv/lib/python3.10/site-packages/pygame/pkgdata.py:25: UserWarning: pkg_resources is deprecated as an API. See https://setuptools.pypa.io/en/latest/pkg_resources.html. The pkg_resources package is slated for removal as early as 2025-11-30. Refrain from using this package or pin to Setuptools<81.\n",
      "  from pkg_resources import resource_stream, resource_exists\n",
      "/home/tsilva/repos/tsilva/gymnasium-solver/.venv/lib/python3.10/site-packages/pygame/pkgdata.py:25: UserWarning: pkg_resources is deprecated as an API. See https://setuptools.pypa.io/en/latest/pkg_resources.html. The pkg_resources package is slated for removal as early as 2025-11-30. Refrain from using this package or pin to Setuptools<81.\n",
      "  from pkg_resources import resource_stream, resource_exists\n",
      "/home/tsilva/repos/tsilva/gymnasium-solver/.venv/lib/python3.10/site-packages/pygame/pkgdata.py:25: UserWarning: pkg_resources is deprecated as an API. See https://setuptools.pypa.io/en/latest/pkg_resources.html. The pkg_resources package is slated for removal as early as 2025-11-30. Refrain from using this package or pin to Setuptools<81.\n",
      "  from pkg_resources import resource_stream, resource_exists\n",
      "/home/tsilva/repos/tsilva/gymnasium-solver/.venv/lib/python3.10/site-packages/pygame/pkgdata.py:25: UserWarning: pkg_resources is deprecated as an API. See https://setuptools.pypa.io/en/latest/pkg_resources.html. The pkg_resources package is slated for removal as early as 2025-11-30. Refrain from using this package or pin to Setuptools<81.\n",
      "  from pkg_resources import resource_stream, resource_exists\n",
      "/home/tsilva/repos/tsilva/gymnasium-solver/.venv/lib/python3.10/site-packages/pygame/pkgdata.py:25: UserWarning: pkg_resources is deprecated as an API. See https://setuptools.pypa.io/en/latest/pkg_resources.html. The pkg_resources package is slated for removal as early as 2025-11-30. Refrain from using this package or pin to Setuptools<81.\n",
      "  from pkg_resources import resource_stream, resource_exists\n",
      "/home/tsilva/repos/tsilva/gymnasium-solver/.venv/lib/python3.10/site-packages/pygame/pkgdata.py:25: UserWarning: pkg_resources is deprecated as an API. See https://setuptools.pypa.io/en/latest/pkg_resources.html. The pkg_resources package is slated for removal as early as 2025-11-30. Refrain from using this package or pin to Setuptools<81.\n",
      "  from pkg_resources import resource_stream, resource_exists\n",
      "/home/tsilva/repos/tsilva/gymnasium-solver/.venv/lib/python3.10/site-packages/pygame/pkgdata.py:25: UserWarning: pkg_resources is deprecated as an API. See https://setuptools.pypa.io/en/latest/pkg_resources.html. The pkg_resources package is slated for removal as early as 2025-11-30. Refrain from using this package or pin to Setuptools<81.\n",
      "  from pkg_resources import resource_stream, resource_exists\n"
     ]
    },
    {
     "name": "stdout",
     "output_type": "stream",
     "text": [
      "Mean reward: 500.00\n"
     ]
    }
   ],
   "source": [
    "from utils.evaluation import evaluate_agent\n",
    "\n",
    "# Evaluate agent and render episodes\n",
    "results = evaluate_agent(\n",
    "    agent, \n",
    "    build_env_fn, \n",
    "    n_episodes=8, \n",
    "    deterministic=True, \n",
    "    render=True,\n",
    "    grid=(2, 2), \n",
    "    text_color=(0, 0, 0), \n",
    "    out_dir=\"./tmp\"\n",
    ")\n",
    "\n",
    "print(f\"Mean reward: {results['mean_reward']:.2f}\")"
   ]
  },
  {
   "cell_type": "code",
   "execution_count": 9,
   "id": "03fc5b86",
   "metadata": {},
   "outputs": [
    {
     "name": "stdout",
     "output_type": "stream",
     "text": [
      "Key metrics to watch on W&B dashboard:\n",
      "  - eval/mean_reward\n",
      "  - train/mean_reward\n",
      "  - epoch/explained_var\n",
      "  - epoch/entropy\n",
      "  - epoch/clip_fraction\n",
      "\n",
      "Warning conditions:\n",
      "  - epoch/clip_fraction > 0.5: Reduce policy_lr or clip_epsilon\n",
      "  - epoch/approx_kl > 0.1: Reduce policy_lr\n",
      "  - epoch/explained_var < 0.3: Increase value_lr or network size\n",
      "  - epoch/entropy < 0.01: Increase entropy_coef\n",
      "  - rollout/queue_miss > rollout/queue_updated: Check async collection\n"
     ]
    }
   ],
   "source": [
    "from utils.training import get_monitoring_info\n",
    "\n",
    "# Get monitoring information\n",
    "monitoring_info = get_monitoring_info()\n",
    "\n",
    "print(\"Key metrics to watch on W&B dashboard:\")\n",
    "for metric in monitoring_info[\"primary_metrics\"]:\n",
    "    print(f\"  - {metric}\")\n",
    "\n",
    "print(\"\\nWarning conditions:\")\n",
    "for condition, action in monitoring_info[\"warning_conditions\"].items():\n",
    "    print(f\"  - {condition}: {action}\")"
   ]
  },
  {
   "cell_type": "markdown",
   "id": "c2fa0410",
   "metadata": {},
   "source": [
    "## Test Shared Backbone PPO\n",
    "\n",
    "Test the new shared backbone feature for PPO:"
   ]
  },
  {
   "cell_type": "code",
   "execution_count": 11,
   "id": "16d25f49",
   "metadata": {},
   "outputs": [
    {
     "name": "stdout",
     "output_type": "stream",
     "text": [
      "Original PPO config:\n",
      "  shared_backbone: True\n",
      "  hidden_dim: 32\n",
      "\n",
      "Shared backbone config:\n",
      "  shared_backbone: True\n",
      "  backbone_dim: [128, 64]\n",
      "  hidden_dim: 32\n",
      "\n",
      "Shared agent type: <class 'learners.ppo.PPOLearner'>\n",
      "Uses shared backbone: True\n",
      "Shared model type: <class 'utils.models.SharedBackboneNet'>\n",
      "\n",
      "Parameter comparison:\n",
      "  Original (separate models): 9,158 parameters\n",
      "  Shared backbone: 13,155 parameters\n",
      "  Difference: +3,997 parameters\n"
     ]
    }
   ],
   "source": [
    "# Test shared backbone PPO\n",
    "from utils.config import load_config\n",
    "from utils.training import create_agent\n",
    "\n",
    "# Create a config with shared backbone enabled\n",
    "shared_config = load_config(ENV_ID, \"ppo\")\n",
    "shared_config.shared_backbone = True\n",
    "shared_config.backbone_dim = [128, 64]  # Larger backbone with multiple layers\n",
    "shared_config.hidden_dim = 32  # Smaller heads\n",
    "\n",
    "print(\"Original PPO config:\")\n",
    "print(f\"  shared_backbone: {getattr(CONFIG, 'shared_backbone', False)}\")\n",
    "print(f\"  hidden_dim: {CONFIG.hidden_dim}\")\n",
    "\n",
    "print(\"\\nShared backbone config:\")\n",
    "print(f\"  shared_backbone: {shared_config.shared_backbone}\")\n",
    "print(f\"  backbone_dim: {shared_config.backbone_dim}\")\n",
    "print(f\"  hidden_dim: {shared_config.hidden_dim}\")\n",
    "\n",
    "# Create shared backbone agent\n",
    "shared_agent = create_agent(shared_config, build_env_fn, obs_dim, act_dim, algorithm=\"ppo\")\n",
    "\n",
    "print(f\"\\nShared agent type: {type(shared_agent)}\")\n",
    "print(f\"Uses shared backbone: {shared_agent.use_shared_backbone}\")\n",
    "print(f\"Shared model type: {type(shared_agent.shared_model) if shared_agent.shared_model else None}\")\n",
    "\n",
    "# Compare parameter counts\n",
    "original_params = sum(p.numel() for p in agent.policy_model.parameters()) + sum(p.numel() for p in agent.value_model.parameters())\n",
    "shared_params = sum(p.numel() for p in shared_agent.shared_model.parameters()) if shared_agent.shared_model else 0\n",
    "\n",
    "print(f\"\\nParameter comparison:\")\n",
    "print(f\"  Original (separate models): {original_params:,} parameters\")\n",
    "print(f\"  Shared backbone: {shared_params:,} parameters\")\n",
    "print(f\"  Difference: {shared_params - original_params:+,} parameters\")"
   ]
  },
  {
   "cell_type": "code",
   "execution_count": 13,
   "id": "eff505e0",
   "metadata": {},
   "outputs": [
    {
     "name": "stderr",
     "output_type": "stream",
     "text": [
      "/home/tsilva/repos/tsilva/gymnasium-solver/.venv/lib/python3.10/site-packages/pytorch_lightning/loggers/wandb.py:397: There is a wandb run already in progress and newly created instances of `WandbLogger` will reuse this run. If this is not desired, call `wandb.finish()` before instantiating `WandbLogger`.\n",
      "GPU available: True (cuda), used: True\n",
      "TPU available: False, using: 0 TPU cores\n",
      "HPU available: False, using: 0 HPUs\n"
     ]
    },
    {
     "name": "stdout",
     "output_type": "stream",
     "text": [
      "🔗 W&B Run: https://wandb.ai/tsilva/CartPole-v1-shared/runs/ivya1ika\n",
      "Training shared backbone agent for 5 epochs...\n",
      "Waiting for initial rollout...\n"
     ]
    },
    {
     "name": "stderr",
     "output_type": "stream",
     "text": [
      "LOCAL_RANK: 0 - CUDA_VISIBLE_DEVICES: [0]\n",
      "\n",
      "  | Name         | Type              | Params | Mode \n",
      "-----------------------------------------------------------\n",
      "0 | policy_model | SharedPolicyNet   | 13.2 K | train\n",
      "1 | value_model  | SharedValueNet    | 13.2 K | train\n",
      "2 | shared_model | SharedBackboneNet | 13.2 K | train\n",
      "-----------------------------------------------------------\n",
      "13.2 K    Trainable params\n",
      "0         Non-trainable params\n",
      "13.2 K    Total params\n",
      "0.053     Total estimated model params size (MB)\n",
      "16        Modules in train mode\n",
      "0         Modules in eval mode\n"
     ]
    },
    {
     "name": "stdout",
     "output_type": "stream",
     "text": [
      "Training started at 2025-07-16 22:22:02\n"
     ]
    },
    {
     "name": "stderr",
     "output_type": "stream",
     "text": [
      "/home/tsilva/repos/tsilva/gymnasium-solver/.venv/lib/python3.10/site-packages/pytorch_lightning/trainer/connectors/data_connector.py:425: The 'train_dataloader' does not have many workers which may be a bottleneck. Consider increasing the value of the `num_workers` argument` to `num_workers=11` in the `DataLoader` to improve performance.\n"
     ]
    },
    {
     "data": {
      "application/vnd.jupyter.widget-view+json": {
       "model_id": "d4fce6ea55364b93bba8364410126456",
       "version_major": 2,
       "version_minor": 0
      },
      "text/plain": [
       "Training: |          | 0/? [00:00<?, ?it/s]"
      ]
     },
     "metadata": {},
     "output_type": "display_data"
    },
    {
     "name": "stderr",
     "output_type": "stream",
     "text": [
      "`Trainer.fit` stopped: `max_epochs=5` reached.\n",
      "Exception in thread Thread-9 (_collect_loop):\n",
      "Traceback (most recent call last):\n",
      "  File \"/usr/lib/python3.10/threading.py\", line 1016, in _bootstrap_inner\n",
      "    self.run()\n",
      "  File \"/home/tsilva/repos/tsilva/gymnasium-solver/.venv/lib/python3.10/site-packages/ipykernel/ipkernel.py\", line 766, in run_closure\n",
      "    _threading_Thread_run(self)\n",
      "  File \"/usr/lib/python3.10/threading.py\", line 953, in run\n",
      "    self._target(*self._args, **self._kwargs)\n",
      "  File \"/home/tsilva/repos/tsilva/gymnasium-solver/utils/rollouts.py\", line 401, in _collect_loop\n",
      "    trajectories, extras = collect_rollouts(\n",
      "  File \"/home/tsilva/repos/tsilva/gymnasium-solver/utils/rollouts.py\", line 100, in collect_rollouts\n",
      "    logits = policy_model(obs_t)\n",
      "  File \"/home/tsilva/repos/tsilva/gymnasium-solver/.venv/lib/python3.10/site-packages/torch/nn/modules/module.py\", line 1751, in _wrapped_call_impl\n",
      "    return self._call_impl(*args, **kwargs)\n",
      "  File \"/home/tsilva/repos/tsilva/gymnasium-solver/.venv/lib/python3.10/site-packages/torch/nn/modules/module.py\", line 1762, in _call_impl\n",
      "    return forward_call(*args, **kwargs)\n",
      "  File \"/home/tsilva/repos/tsilva/gymnasium-solver/utils/models.py\", line 134, in forward\n",
      "    return self.shared_net.forward(x)\n",
      "  File \"/home/tsilva/repos/tsilva/gymnasium-solver/utils/models.py\", line 110, in forward\n",
      "    features = self.backbone(x)\n",
      "  File \"/home/tsilva/repos/tsilva/gymnasium-solver/.venv/lib/python3.10/site-packages/torch/nn/modules/module.py\", line 1751, in _wrapped_call_impl\n",
      "    return self._call_impl(*args, **kwargs)\n",
      "  File \"/home/tsilva/repos/tsilva/gymnasium-solver/.venv/lib/python3.10/site-packages/torch/nn/modules/module.py\", line 1762, in _call_impl\n",
      "    return forward_call(*args, **kwargs)\n",
      "  File \"/home/tsilva/repos/tsilva/gymnasium-solver/.venv/lib/python3.10/site-packages/torch/nn/modules/container.py\", line 240, in forward\n",
      "    input = module(input)\n",
      "  File \"/home/tsilva/repos/tsilva/gymnasium-solver/.venv/lib/python3.10/site-packages/torch/nn/modules/module.py\", line 1751, in _wrapped_call_impl\n",
      "    return self._call_impl(*args, **kwargs)\n",
      "  File \"/home/tsilva/repos/tsilva/gymnasium-solver/.venv/lib/python3.10/site-packages/torch/nn/modules/module.py\", line 1762, in _call_impl\n",
      "    return forward_call(*args, **kwargs)\n",
      "  File \"/home/tsilva/repos/tsilva/gymnasium-solver/.venv/lib/python3.10/site-packages/torch/nn/modules/linear.py\", line 125, in forward\n",
      "    return F.linear(input, self.weight, self.bias)\n",
      "RuntimeError: Expected all tensors to be on the same device, but found at least two devices, cpu and cuda:0! (when checking argument for argument mat1 in method wrapper_CUDA_addmm)\n"
     ]
    },
    {
     "name": "stdout",
     "output_type": "stream",
     "text": [
      "Training completed in 10.77 seconds (0.18 minutes)\n"
     ]
    }
   ],
   "source": [
    "# Test training the shared backbone agent\n",
    "from utils.training import create_trainer\n",
    "\n",
    "# Create a smaller config for testing\n",
    "test_config = shared_config\n",
    "test_config.max_epochs = 5\n",
    "\n",
    "# Create trainer for shared backbone agent\n",
    "shared_trainer = create_trainer(test_config, project_name=f\"{ENV_ID}-shared\", run_name=f\"shared-ppo-{test_config.seed}\")\n",
    "\n",
    "print(f\"Training shared backbone agent for {test_config.max_epochs} epochs...\")\n",
    "shared_trainer.fit(shared_agent)"
   ]
  },
  {
   "cell_type": "code",
   "execution_count": 14,
   "id": "aaf96128",
   "metadata": {},
   "outputs": [
    {
     "name": "stdout",
     "output_type": "stream",
     "text": [
      "Device debugging:\n",
      "Policy model device: cpu\n",
      "Value model device: cpu\n",
      "Shared model device: cpu\n",
      "Policy wrapper shared_net is shared_backbone: True\n",
      "Value wrapper shared_net is shared_backbone: True\n",
      "Rollout collector policy device: cpu\n",
      "Rollout collector value device: cpu\n"
     ]
    }
   ],
   "source": [
    "# Debug device placement\n",
    "print(\"Device debugging:\")\n",
    "print(f\"Policy model device: {next(shared_agent.policy_model.parameters()).device}\")\n",
    "print(f\"Value model device: {next(shared_agent.value_model.parameters()).device}\")\n",
    "print(f\"Shared model device: {next(shared_agent.shared_backbone.parameters()).device}\")\n",
    "\n",
    "# Check if the wrapper models reference the same underlying model\n",
    "print(f\"Policy wrapper shared_net is shared_backbone: {shared_agent.policy_model.shared_net is shared_agent.shared_backbone}\")\n",
    "print(f\"Value wrapper shared_net is shared_backbone: {shared_agent.value_model.shared_net is shared_agent.shared_backbone}\")\n",
    "\n",
    "# Check rollout collector models\n",
    "print(f\"Rollout collector policy device: {next(shared_agent.rollout_collector.policy_model.parameters()).device}\")\n",
    "print(f\"Rollout collector value device: {next(shared_agent.rollout_collector.value_model.parameters()).device}\")"
   ]
  },
  {
   "cell_type": "code",
   "execution_count": 15,
   "id": "9ed350b0",
   "metadata": {},
   "outputs": [
    {
     "name": "stdout",
     "output_type": "stream",
     "text": [
      "Creating new shared backbone agent...\n",
      "New agent device debugging:\n",
      "Policy model device: cuda:0\n",
      "Value model device: cuda:0\n",
      "Shared model device: cuda:0\n",
      "Rollout collector policy device: cuda:0\n",
      "Rollout collector value device: cuda:0\n"
     ]
    },
    {
     "name": "stderr",
     "output_type": "stream",
     "text": [
      "GPU available: True (cuda), used: True\n",
      "TPU available: False, using: 0 TPU cores\n",
      "HPU available: False, using: 0 HPUs\n"
     ]
    },
    {
     "name": "stdout",
     "output_type": "stream",
     "text": [
      "🔗 W&B Run: https://wandb.ai/tsilva/CartPole-v1-shared-v2/runs/q6z2bblw\n",
      "Testing training with new agent for 2 epochs...\n",
      "Waiting for initial rollout...\n"
     ]
    },
    {
     "name": "stderr",
     "output_type": "stream",
     "text": [
      "LOCAL_RANK: 0 - CUDA_VISIBLE_DEVICES: [0]\n",
      "\n",
      "  | Name         | Type              | Params | Mode \n",
      "-----------------------------------------------------------\n",
      "0 | policy_model | SharedPolicyNet   | 13.2 K | train\n",
      "1 | value_model  | SharedValueNet    | 13.2 K | train\n",
      "2 | shared_model | SharedBackboneNet | 13.2 K | train\n",
      "-----------------------------------------------------------\n",
      "13.2 K    Trainable params\n",
      "0         Non-trainable params\n",
      "13.2 K    Total params\n",
      "0.053     Total estimated model params size (MB)\n",
      "16        Modules in train mode\n",
      "0         Modules in eval mode\n"
     ]
    },
    {
     "name": "stdout",
     "output_type": "stream",
     "text": [
      "Training started at 2025-07-16 22:23:33\n"
     ]
    },
    {
     "name": "stderr",
     "output_type": "stream",
     "text": [
      "/home/tsilva/repos/tsilva/gymnasium-solver/.venv/lib/python3.10/site-packages/pytorch_lightning/trainer/connectors/data_connector.py:425: The 'train_dataloader' does not have many workers which may be a bottleneck. Consider increasing the value of the `num_workers` argument` to `num_workers=11` in the `DataLoader` to improve performance.\n"
     ]
    },
    {
     "data": {
      "application/vnd.jupyter.widget-view+json": {
       "model_id": "fb4cb49c629849ed80d35e8a678cf38e",
       "version_major": 2,
       "version_minor": 0
      },
      "text/plain": [
       "Training: |          | 0/? [00:00<?, ?it/s]"
      ]
     },
     "metadata": {},
     "output_type": "display_data"
    },
    {
     "name": "stderr",
     "output_type": "stream",
     "text": [
      "`Trainer.fit` stopped: `max_epochs=2` reached.\n",
      "Exception in thread Thread-11 (_collect_loop):\n",
      "Traceback (most recent call last):\n",
      "  File \"/usr/lib/python3.10/threading.py\", line 1016, in _bootstrap_inner\n",
      "    self.run()\n",
      "  File \"/home/tsilva/repos/tsilva/gymnasium-solver/.venv/lib/python3.10/site-packages/ipykernel/ipkernel.py\", line 766, in run_closure\n",
      "    _threading_Thread_run(self)\n",
      "  File \"/usr/lib/python3.10/threading.py\", line 953, in run\n",
      "    self._target(*self._args, **self._kwargs)\n",
      "  File \"/home/tsilva/repos/tsilva/gymnasium-solver/utils/rollouts.py\", line 412, in _collect_loop\n",
      "    trajectories, extras = collect_rollouts(\n",
      "  File \"/home/tsilva/repos/tsilva/gymnasium-solver/utils/rollouts.py\", line 100, in collect_rollouts\n",
      "    logits = policy_model(obs_t)\n",
      "  File \"/home/tsilva/repos/tsilva/gymnasium-solver/.venv/lib/python3.10/site-packages/torch/nn/modules/module.py\", line 1751, in _wrapped_call_impl\n",
      "    return self._call_impl(*args, **kwargs)\n",
      "  File \"/home/tsilva/repos/tsilva/gymnasium-solver/.venv/lib/python3.10/site-packages/torch/nn/modules/module.py\", line 1762, in _call_impl\n",
      "    return forward_call(*args, **kwargs)\n",
      "  File \"/home/tsilva/repos/tsilva/gymnasium-solver/utils/models.py\", line 134, in forward\n",
      "    return self.shared_net.forward(x)\n",
      "  File \"/home/tsilva/repos/tsilva/gymnasium-solver/utils/models.py\", line 110, in forward\n",
      "    features = self.backbone(x)\n",
      "  File \"/home/tsilva/repos/tsilva/gymnasium-solver/.venv/lib/python3.10/site-packages/torch/nn/modules/module.py\", line 1751, in _wrapped_call_impl\n",
      "    return self._call_impl(*args, **kwargs)\n",
      "  File \"/home/tsilva/repos/tsilva/gymnasium-solver/.venv/lib/python3.10/site-packages/torch/nn/modules/module.py\", line 1762, in _call_impl\n",
      "    return forward_call(*args, **kwargs)\n",
      "  File \"/home/tsilva/repos/tsilva/gymnasium-solver/.venv/lib/python3.10/site-packages/torch/nn/modules/container.py\", line 240, in forward\n",
      "    input = module(input)\n",
      "  File \"/home/tsilva/repos/tsilva/gymnasium-solver/.venv/lib/python3.10/site-packages/torch/nn/modules/module.py\", line 1751, in _wrapped_call_impl\n",
      "    return self._call_impl(*args, **kwargs)\n",
      "  File \"/home/tsilva/repos/tsilva/gymnasium-solver/.venv/lib/python3.10/site-packages/torch/nn/modules/module.py\", line 1762, in _call_impl\n",
      "    return forward_call(*args, **kwargs)\n",
      "  File \"/home/tsilva/repos/tsilva/gymnasium-solver/.venv/lib/python3.10/site-packages/torch/nn/modules/linear.py\", line 125, in forward\n",
      "    return F.linear(input, self.weight, self.bias)\n",
      "RuntimeError: Expected all tensors to be on the same device, but found at least two devices, cuda:0 and cpu! (when checking argument for argument mat2 in method wrapper_CUDA_addmm)\n"
     ]
    },
    {
     "name": "stdout",
     "output_type": "stream",
     "text": [
      "Training completed in 3.57 seconds (0.06 minutes)\n"
     ]
    }
   ],
   "source": [
    "# Create a new shared backbone agent with device fixes\n",
    "print(\"Creating new shared backbone agent...\")\n",
    "shared_agent_v2 = create_agent(shared_config, build_env_fn, obs_dim, act_dim, algorithm=\"ppo\")\n",
    "\n",
    "# Debug device placement for new agent\n",
    "print(\"New agent device debugging:\")\n",
    "print(f\"Policy model device: {next(shared_agent_v2.policy_model.parameters()).device}\")\n",
    "print(f\"Value model device: {next(shared_agent_v2.value_model.parameters()).device}\")\n",
    "print(f\"Shared model device: {next(shared_agent_v2.shared_backbone.parameters()).device}\")\n",
    "print(f\"Rollout collector policy device: {next(shared_agent_v2.rollout_collector.policy_model.parameters()).device}\")\n",
    "print(f\"Rollout collector value device: {next(shared_agent_v2.rollout_collector.value_model.parameters()).device}\")\n",
    "\n",
    "# Try a quick training test\n",
    "test_config_v2 = shared_config\n",
    "test_config_v2.max_epochs = 2\n",
    "shared_trainer_v2 = create_trainer(test_config_v2, project_name=f\"{ENV_ID}-shared-v2\", run_name=f\"shared-ppo-v2-{test_config_v2.seed}\")\n",
    "\n",
    "print(f\"Testing training with new agent for {test_config_v2.max_epochs} epochs...\")\n",
    "shared_trainer_v2.fit(shared_agent_v2)"
   ]
  },
  {
   "cell_type": "code",
   "execution_count": 16,
   "id": "5d35a3e9",
   "metadata": {},
   "outputs": [
    {
     "name": "stdout",
     "output_type": "stream",
     "text": [
      "Creating a new shared backbone agent with collect_rollouts device fix...\n"
     ]
    },
    {
     "name": "stderr",
     "output_type": "stream",
     "text": [
      "GPU available: True (cuda), used: True\n",
      "TPU available: False, using: 0 TPU cores\n",
      "HPU available: False, using: 0 HPUs\n"
     ]
    },
    {
     "name": "stdout",
     "output_type": "stream",
     "text": [
      "🔗 W&B Run: https://wandb.ai/tsilva/CartPole-v1-shared-v3/runs/ski19pwz\n",
      "Testing training with device-fixed agent for 2 epochs...\n",
      "Waiting for initial rollout...\n"
     ]
    },
    {
     "name": "stderr",
     "output_type": "stream",
     "text": [
      "LOCAL_RANK: 0 - CUDA_VISIBLE_DEVICES: [0]\n",
      "\n",
      "  | Name         | Type              | Params | Mode \n",
      "-----------------------------------------------------------\n",
      "0 | policy_model | SharedPolicyNet   | 13.2 K | train\n",
      "1 | value_model  | SharedValueNet    | 13.2 K | train\n",
      "2 | shared_model | SharedBackboneNet | 13.2 K | train\n",
      "-----------------------------------------------------------\n",
      "13.2 K    Trainable params\n",
      "0         Non-trainable params\n",
      "13.2 K    Total params\n",
      "0.053     Total estimated model params size (MB)\n",
      "16        Modules in train mode\n",
      "0         Modules in eval mode\n"
     ]
    },
    {
     "name": "stdout",
     "output_type": "stream",
     "text": [
      "Training started at 2025-07-16 22:24:27\n"
     ]
    },
    {
     "name": "stderr",
     "output_type": "stream",
     "text": [
      "/home/tsilva/repos/tsilva/gymnasium-solver/.venv/lib/python3.10/site-packages/pytorch_lightning/trainer/connectors/data_connector.py:425: The 'train_dataloader' does not have many workers which may be a bottleneck. Consider increasing the value of the `num_workers` argument` to `num_workers=11` in the `DataLoader` to improve performance.\n"
     ]
    },
    {
     "data": {
      "application/vnd.jupyter.widget-view+json": {
       "model_id": "eea1f4ced6c846a79792693a98922de2",
       "version_major": 2,
       "version_minor": 0
      },
      "text/plain": [
       "Training: |          | 0/? [00:00<?, ?it/s]"
      ]
     },
     "metadata": {},
     "output_type": "display_data"
    },
    {
     "name": "stderr",
     "output_type": "stream",
     "text": [
      "`Trainer.fit` stopped: `max_epochs=2` reached.\n",
      "Exception in thread Thread-13 (_collect_loop):\n",
      "Traceback (most recent call last):\n",
      "  File \"/usr/lib/python3.10/threading.py\", line 1016, in _bootstrap_inner\n",
      "    self.run()\n",
      "  File \"/home/tsilva/repos/tsilva/gymnasium-solver/.venv/lib/python3.10/site-packages/ipykernel/ipkernel.py\", line 766, in run_closure\n",
      "    _threading_Thread_run(self)\n",
      "  File \"/usr/lib/python3.10/threading.py\", line 953, in run\n",
      "    self._target(*self._args, **self._kwargs)\n",
      "  File \"/home/tsilva/repos/tsilva/gymnasium-solver/utils/rollouts.py\", line 415, in _collect_loop\n",
      "    trajectories, extras = collect_rollouts(\n",
      "  File \"/home/tsilva/repos/tsilva/gymnasium-solver/utils/rollouts.py\", line 109, in collect_rollouts\n",
      "    value_model(obs_t).squeeze(-1)\n",
      "  File \"/home/tsilva/repos/tsilva/gymnasium-solver/.venv/lib/python3.10/site-packages/torch/nn/modules/module.py\", line 1751, in _wrapped_call_impl\n",
      "    return self._call_impl(*args, **kwargs)\n",
      "  File \"/home/tsilva/repos/tsilva/gymnasium-solver/.venv/lib/python3.10/site-packages/torch/nn/modules/module.py\", line 1762, in _call_impl\n",
      "    return forward_call(*args, **kwargs)\n",
      "  File \"/home/tsilva/repos/tsilva/gymnasium-solver/utils/models.py\", line 145, in forward\n",
      "    return self.shared_net.get_value(x)\n",
      "  File \"/home/tsilva/repos/tsilva/gymnasium-solver/utils/models.py\", line 115, in get_value\n",
      "    features = self.backbone(x)\n",
      "  File \"/home/tsilva/repos/tsilva/gymnasium-solver/.venv/lib/python3.10/site-packages/torch/nn/modules/module.py\", line 1751, in _wrapped_call_impl\n",
      "    return self._call_impl(*args, **kwargs)\n",
      "  File \"/home/tsilva/repos/tsilva/gymnasium-solver/.venv/lib/python3.10/site-packages/torch/nn/modules/module.py\", line 1762, in _call_impl\n",
      "    return forward_call(*args, **kwargs)\n",
      "  File \"/home/tsilva/repos/tsilva/gymnasium-solver/.venv/lib/python3.10/site-packages/torch/nn/modules/container.py\", line 240, in forward\n",
      "    input = module(input)\n",
      "  File \"/home/tsilva/repos/tsilva/gymnasium-solver/.venv/lib/python3.10/site-packages/torch/nn/modules/module.py\", line 1751, in _wrapped_call_impl\n",
      "    return self._call_impl(*args, **kwargs)\n",
      "  File \"/home/tsilva/repos/tsilva/gymnasium-solver/.venv/lib/python3.10/site-packages/torch/nn/modules/module.py\", line 1762, in _call_impl\n",
      "    return forward_call(*args, **kwargs)\n",
      "  File \"/home/tsilva/repos/tsilva/gymnasium-solver/.venv/lib/python3.10/site-packages/torch/nn/modules/linear.py\", line 125, in forward\n",
      "    return F.linear(input, self.weight, self.bias)\n",
      "RuntimeError: Expected all tensors to be on the same device, but found at least two devices, cpu and cuda:0! (when checking argument for argument mat1 in method wrapper_CUDA_addmm)\n"
     ]
    },
    {
     "name": "stdout",
     "output_type": "stream",
     "text": [
      "Training completed in 5.37 seconds (0.09 minutes)\n"
     ]
    }
   ],
   "source": [
    "# Test the fixed shared backbone agent\n",
    "print(\"Creating a new shared backbone agent with collect_rollouts device fix...\")\n",
    "shared_agent_v3 = create_agent(shared_config, build_env_fn, obs_dim, act_dim, algorithm=\"ppo\")\n",
    "\n",
    "# Test training for 2 epochs\n",
    "test_config_v3 = shared_config\n",
    "test_config_v3.max_epochs = 2\n",
    "shared_trainer_v3 = create_trainer(test_config_v3, project_name=f\"{ENV_ID}-shared-v3\", run_name=f\"shared-ppo-v3-{test_config_v3.seed}\")\n",
    "\n",
    "print(f\"Testing training with device-fixed agent for {test_config_v3.max_epochs} epochs...\")\n",
    "shared_trainer_v3.fit(shared_agent_v3)"
   ]
  },
  {
   "cell_type": "code",
   "execution_count": 17,
   "id": "e034ab7f",
   "metadata": {},
   "outputs": [
    {
     "name": "stdout",
     "output_type": "stream",
     "text": [
      "Creating shared backbone agent with state dict device mapping fix...\n"
     ]
    },
    {
     "name": "stderr",
     "output_type": "stream",
     "text": [
      "GPU available: True (cuda), used: True\n",
      "TPU available: False, using: 0 TPU cores\n",
      "HPU available: False, using: 0 HPUs\n"
     ]
    },
    {
     "name": "stdout",
     "output_type": "stream",
     "text": [
      "🔗 W&B Run: https://wandb.ai/tsilva/CartPole-v1-shared-final/runs/7ft0hlt3\n",
      "Testing training with final device fix for 3 epochs...\n",
      "Waiting for initial rollout...\n"
     ]
    },
    {
     "name": "stderr",
     "output_type": "stream",
     "text": [
      "LOCAL_RANK: 0 - CUDA_VISIBLE_DEVICES: [0]\n",
      "\n",
      "  | Name         | Type              | Params | Mode \n",
      "-----------------------------------------------------------\n",
      "0 | policy_model | SharedPolicyNet   | 13.2 K | train\n",
      "1 | value_model  | SharedValueNet    | 13.2 K | train\n",
      "2 | shared_model | SharedBackboneNet | 13.2 K | train\n",
      "-----------------------------------------------------------\n",
      "13.2 K    Trainable params\n",
      "0         Non-trainable params\n",
      "13.2 K    Total params\n",
      "0.053     Total estimated model params size (MB)\n",
      "16        Modules in train mode\n",
      "0         Modules in eval mode\n"
     ]
    },
    {
     "name": "stdout",
     "output_type": "stream",
     "text": [
      "Training started at 2025-07-16 22:25:13\n"
     ]
    },
    {
     "name": "stderr",
     "output_type": "stream",
     "text": [
      "/home/tsilva/repos/tsilva/gymnasium-solver/.venv/lib/python3.10/site-packages/pytorch_lightning/trainer/connectors/data_connector.py:425: The 'train_dataloader' does not have many workers which may be a bottleneck. Consider increasing the value of the `num_workers` argument` to `num_workers=11` in the `DataLoader` to improve performance.\n"
     ]
    },
    {
     "data": {
      "application/vnd.jupyter.widget-view+json": {
       "model_id": "dbef35a2e1d74413960f5f7c5a665c1c",
       "version_major": 2,
       "version_minor": 0
      },
      "text/plain": [
       "Training: |          | 0/? [00:00<?, ?it/s]"
      ]
     },
     "metadata": {},
     "output_type": "display_data"
    },
    {
     "name": "stderr",
     "output_type": "stream",
     "text": [
      "`Trainer.fit` stopped: `max_epochs=3` reached.\n",
      "Exception in thread Thread-15 (_collect_loop):\n",
      "Traceback (most recent call last):\n",
      "  File \"/usr/lib/python3.10/threading.py\", line 1016, in _bootstrap_inner\n",
      "    self.run()\n",
      "  File \"/home/tsilva/repos/tsilva/gymnasium-solver/.venv/lib/python3.10/site-packages/ipykernel/ipkernel.py\", line 766, in run_closure\n",
      "    _threading_Thread_run(self)\n",
      "  File \"/usr/lib/python3.10/threading.py\", line 953, in run\n",
      "    self._target(*self._args, **self._kwargs)\n",
      "  File \"/home/tsilva/repos/tsilva/gymnasium-solver/utils/rollouts.py\", line 414, in _collect_loop\n",
      "    trajectories, extras = collect_rollouts(\n",
      "  File \"/home/tsilva/repos/tsilva/gymnasium-solver/utils/rollouts.py\", line 103, in collect_rollouts\n",
      "    logits = policy_model(obs_t)\n",
      "  File \"/home/tsilva/repos/tsilva/gymnasium-solver/.venv/lib/python3.10/site-packages/torch/nn/modules/module.py\", line 1751, in _wrapped_call_impl\n",
      "    return self._call_impl(*args, **kwargs)\n",
      "  File \"/home/tsilva/repos/tsilva/gymnasium-solver/.venv/lib/python3.10/site-packages/torch/nn/modules/module.py\", line 1762, in _call_impl\n",
      "    return forward_call(*args, **kwargs)\n",
      "  File \"/home/tsilva/repos/tsilva/gymnasium-solver/utils/models.py\", line 134, in forward\n",
      "    return self.shared_net.forward(x)\n",
      "  File \"/home/tsilva/repos/tsilva/gymnasium-solver/utils/models.py\", line 110, in forward\n",
      "    features = self.backbone(x)\n",
      "  File \"/home/tsilva/repos/tsilva/gymnasium-solver/.venv/lib/python3.10/site-packages/torch/nn/modules/module.py\", line 1751, in _wrapped_call_impl\n",
      "    return self._call_impl(*args, **kwargs)\n",
      "  File \"/home/tsilva/repos/tsilva/gymnasium-solver/.venv/lib/python3.10/site-packages/torch/nn/modules/module.py\", line 1762, in _call_impl\n",
      "    return forward_call(*args, **kwargs)\n",
      "  File \"/home/tsilva/repos/tsilva/gymnasium-solver/.venv/lib/python3.10/site-packages/torch/nn/modules/container.py\", line 240, in forward\n",
      "    input = module(input)\n",
      "  File \"/home/tsilva/repos/tsilva/gymnasium-solver/.venv/lib/python3.10/site-packages/torch/nn/modules/module.py\", line 1751, in _wrapped_call_impl\n",
      "    return self._call_impl(*args, **kwargs)\n",
      "  File \"/home/tsilva/repos/tsilva/gymnasium-solver/.venv/lib/python3.10/site-packages/torch/nn/modules/module.py\", line 1762, in _call_impl\n",
      "    return forward_call(*args, **kwargs)\n",
      "  File \"/home/tsilva/repos/tsilva/gymnasium-solver/.venv/lib/python3.10/site-packages/torch/nn/modules/linear.py\", line 125, in forward\n",
      "    return F.linear(input, self.weight, self.bias)\n",
      "RuntimeError: Expected all tensors to be on the same device, but found at least two devices, cpu and cuda:0! (when checking argument for argument mat1 in method wrapper_CUDA_addmm)\n"
     ]
    },
    {
     "name": "stdout",
     "output_type": "stream",
     "text": [
      "Training completed in 7.25 seconds (0.12 minutes)\n"
     ]
    }
   ],
   "source": [
    "# Test the final fix for shared backbone agent\n",
    "print(\"Creating shared backbone agent with state dict device mapping fix...\")\n",
    "shared_agent_final = create_agent(shared_config, build_env_fn, obs_dim, act_dim, algorithm=\"ppo\")\n",
    "\n",
    "# Test training for 3 epochs to be sure\n",
    "test_config_final = shared_config\n",
    "test_config_final.max_epochs = 3\n",
    "shared_trainer_final = create_trainer(test_config_final, project_name=f\"{ENV_ID}-shared-final\", run_name=f\"shared-ppo-final-{test_config_final.seed}\")\n",
    "\n",
    "print(f\"Testing training with final device fix for {test_config_final.max_epochs} epochs...\")\n",
    "shared_trainer_final.fit(shared_agent_final)"
   ]
  },
  {
   "cell_type": "code",
   "execution_count": 18,
   "id": "2c0c9225",
   "metadata": {},
   "outputs": [
    {
     "name": "stdout",
     "output_type": "stream",
     "text": [
      "Creating shared backbone agent with comprehensive initialization and device fixes...\n"
     ]
    },
    {
     "name": "stderr",
     "output_type": "stream",
     "text": [
      "GPU available: True (cuda), used: True\n",
      "TPU available: False, using: 0 TPU cores\n",
      "HPU available: False, using: 0 HPUs\n"
     ]
    },
    {
     "name": "stdout",
     "output_type": "stream",
     "text": [
      "🔗 W&B Run: https://wandb.ai/tsilva/CartPole-v1-shared-comprehensive/runs/37wz8owt\n",
      "Testing training with comprehensive fixes for 5 epochs...\n",
      "Waiting for initial rollout...\n"
     ]
    },
    {
     "name": "stderr",
     "output_type": "stream",
     "text": [
      "LOCAL_RANK: 0 - CUDA_VISIBLE_DEVICES: [0]\n",
      "\n",
      "  | Name         | Type              | Params | Mode \n",
      "-----------------------------------------------------------\n",
      "0 | policy_model | SharedPolicyNet   | 13.2 K | train\n",
      "1 | value_model  | SharedValueNet    | 13.2 K | train\n",
      "2 | shared_model | SharedBackboneNet | 13.2 K | eval \n",
      "-----------------------------------------------------------\n",
      "13.2 K    Trainable params\n",
      "0         Non-trainable params\n",
      "13.2 K    Total params\n",
      "0.053     Total estimated model params size (MB)\n",
      "2         Modules in train mode\n",
      "14        Modules in eval mode\n"
     ]
    },
    {
     "name": "stdout",
     "output_type": "stream",
     "text": [
      "Training started at 2025-07-16 22:26:41\n"
     ]
    },
    {
     "name": "stderr",
     "output_type": "stream",
     "text": [
      "/home/tsilva/repos/tsilva/gymnasium-solver/.venv/lib/python3.10/site-packages/pytorch_lightning/trainer/connectors/data_connector.py:425: The 'train_dataloader' does not have many workers which may be a bottleneck. Consider increasing the value of the `num_workers` argument` to `num_workers=11` in the `DataLoader` to improve performance.\n"
     ]
    },
    {
     "data": {
      "application/vnd.jupyter.widget-view+json": {
       "model_id": "3f6c2766c7564edc8245ed3019ee5f0a",
       "version_major": 2,
       "version_minor": 0
      },
      "text/plain": [
       "Training: |          | 0/? [00:00<?, ?it/s]"
      ]
     },
     "metadata": {},
     "output_type": "display_data"
    },
    {
     "name": "stderr",
     "output_type": "stream",
     "text": [
      "`Trainer.fit` stopped: `max_epochs=5` reached.\n",
      "Exception in thread Thread-17 (_collect_loop):\n",
      "Traceback (most recent call last):\n",
      "  File \"/usr/lib/python3.10/threading.py\", line 1016, in _bootstrap_inner\n",
      "    self.run()\n",
      "  File \"/home/tsilva/repos/tsilva/gymnasium-solver/.venv/lib/python3.10/site-packages/ipykernel/ipkernel.py\", line 766, in run_closure\n",
      "    _threading_Thread_run(self)\n",
      "  File \"/usr/lib/python3.10/threading.py\", line 953, in run\n",
      "    self._target(*self._args, **self._kwargs)\n",
      "  File \"/home/tsilva/repos/tsilva/gymnasium-solver/utils/rollouts.py\", line 439, in _collect_loop\n",
      "    trajectories, extras = collect_rollouts(\n",
      "  File \"/home/tsilva/repos/tsilva/gymnasium-solver/utils/rollouts.py\", line 109, in collect_rollouts\n",
      "    value_model(obs_t).squeeze(-1)\n",
      "  File \"/home/tsilva/repos/tsilva/gymnasium-solver/.venv/lib/python3.10/site-packages/torch/nn/modules/module.py\", line 1751, in _wrapped_call_impl\n",
      "    return self._call_impl(*args, **kwargs)\n",
      "  File \"/home/tsilva/repos/tsilva/gymnasium-solver/.venv/lib/python3.10/site-packages/torch/nn/modules/module.py\", line 1762, in _call_impl\n",
      "    return forward_call(*args, **kwargs)\n",
      "  File \"/home/tsilva/repos/tsilva/gymnasium-solver/utils/models.py\", line 145, in forward\n",
      "    return self.shared_net.get_value(x)\n",
      "  File \"/home/tsilva/repos/tsilva/gymnasium-solver/utils/models.py\", line 115, in get_value\n",
      "    features = self.backbone(x)\n",
      "  File \"/home/tsilva/repos/tsilva/gymnasium-solver/.venv/lib/python3.10/site-packages/torch/nn/modules/module.py\", line 1751, in _wrapped_call_impl\n",
      "    return self._call_impl(*args, **kwargs)\n",
      "  File \"/home/tsilva/repos/tsilva/gymnasium-solver/.venv/lib/python3.10/site-packages/torch/nn/modules/module.py\", line 1762, in _call_impl\n",
      "    return forward_call(*args, **kwargs)\n",
      "  File \"/home/tsilva/repos/tsilva/gymnasium-solver/.venv/lib/python3.10/site-packages/torch/nn/modules/container.py\", line 240, in forward\n",
      "    input = module(input)\n",
      "  File \"/home/tsilva/repos/tsilva/gymnasium-solver/.venv/lib/python3.10/site-packages/torch/nn/modules/module.py\", line 1751, in _wrapped_call_impl\n",
      "    return self._call_impl(*args, **kwargs)\n",
      "  File \"/home/tsilva/repos/tsilva/gymnasium-solver/.venv/lib/python3.10/site-packages/torch/nn/modules/module.py\", line 1762, in _call_impl\n",
      "    return forward_call(*args, **kwargs)\n",
      "  File \"/home/tsilva/repos/tsilva/gymnasium-solver/.venv/lib/python3.10/site-packages/torch/nn/modules/linear.py\", line 125, in forward\n",
      "    return F.linear(input, self.weight, self.bias)\n",
      "RuntimeError: Expected all tensors to be on the same device, but found at least two devices, cpu and cuda:0! (when checking argument for argument mat1 in method wrapper_CUDA_addmm)\n"
     ]
    },
    {
     "name": "stdout",
     "output_type": "stream",
     "text": [
      "Training completed in 10.58 seconds (0.18 minutes)\n"
     ]
    }
   ],
   "source": [
    "# Test comprehensive fix for shared backbone agent\n",
    "print(\"Creating shared backbone agent with comprehensive initialization and device fixes...\")\n",
    "shared_agent_comprehensive = create_agent(shared_config, build_env_fn, obs_dim, act_dim, algorithm=\"ppo\")\n",
    "\n",
    "# Test training for 5 epochs\n",
    "test_config_comprehensive = shared_config\n",
    "test_config_comprehensive.max_epochs = 5\n",
    "shared_trainer_comprehensive = create_trainer(test_config_comprehensive, project_name=f\"{ENV_ID}-shared-comprehensive\", run_name=f\"shared-ppo-comprehensive-{test_config_comprehensive.seed}\")\n",
    "\n",
    "print(f\"Testing training with comprehensive fixes for {test_config_comprehensive.max_epochs} epochs...\")\n",
    "shared_trainer_comprehensive.fit(shared_agent_comprehensive)"
   ]
  },
  {
   "cell_type": "code",
   "execution_count": 19,
   "id": "e117b6b3",
   "metadata": {},
   "outputs": [
    {
     "name": "stdout",
     "output_type": "stream",
     "text": [
      "Creating shared backbone agent with synchronous rollouts...\n",
      "Rollout collector type: <class 'utils.rollouts.SyncRolloutCollector'>\n"
     ]
    },
    {
     "name": "stderr",
     "output_type": "stream",
     "text": [
      "GPU available: True (cuda), used: True\n",
      "TPU available: False, using: 0 TPU cores\n",
      "HPU available: False, using: 0 HPUs\n"
     ]
    },
    {
     "name": "stdout",
     "output_type": "stream",
     "text": [
      "🔗 W&B Run: https://wandb.ai/tsilva/CartPole-v1-shared-sync/runs/7k6i8985\n",
      "Testing training with synchronous rollouts for 3 epochs...\n",
      "Waiting for initial rollout...\n"
     ]
    },
    {
     "name": "stderr",
     "output_type": "stream",
     "text": [
      "LOCAL_RANK: 0 - CUDA_VISIBLE_DEVICES: [0]\n",
      "\n",
      "  | Name         | Type              | Params | Mode \n",
      "-----------------------------------------------------------\n",
      "0 | policy_model | SharedPolicyNet   | 13.2 K | train\n",
      "1 | value_model  | SharedValueNet    | 13.2 K | train\n",
      "2 | shared_model | SharedBackboneNet | 13.2 K | eval \n",
      "-----------------------------------------------------------\n",
      "13.2 K    Trainable params\n",
      "0         Non-trainable params\n",
      "13.2 K    Total params\n",
      "0.053     Total estimated model params size (MB)\n",
      "2         Modules in train mode\n",
      "14        Modules in eval mode\n"
     ]
    },
    {
     "name": "stdout",
     "output_type": "stream",
     "text": [
      "Training started at 2025-07-16 22:27:32\n"
     ]
    },
    {
     "name": "stderr",
     "output_type": "stream",
     "text": [
      "/home/tsilva/repos/tsilva/gymnasium-solver/.venv/lib/python3.10/site-packages/pytorch_lightning/trainer/connectors/data_connector.py:425: The 'train_dataloader' does not have many workers which may be a bottleneck. Consider increasing the value of the `num_workers` argument` to `num_workers=11` in the `DataLoader` to improve performance.\n"
     ]
    },
    {
     "data": {
      "application/vnd.jupyter.widget-view+json": {
       "model_id": "aeb6e1be19a04ebe9018e500f856f797",
       "version_major": 2,
       "version_minor": 0
      },
      "text/plain": [
       "Training: |          | 0/? [00:00<?, ?it/s]"
      ]
     },
     "metadata": {},
     "output_type": "display_data"
    },
    {
     "name": "stderr",
     "output_type": "stream",
     "text": [
      "`Trainer.fit` stopped: `max_epochs=3` reached.\n"
     ]
    },
    {
     "name": "stdout",
     "output_type": "stream",
     "text": [
      "Training completed in 4.75 seconds (0.08 minutes)\n"
     ]
    }
   ],
   "source": [
    "# Test shared backbone agent with synchronous rollouts\n",
    "print(\"Creating shared backbone agent with synchronous rollouts...\")\n",
    "shared_agent_sync = create_agent(shared_config, build_env_fn, obs_dim, act_dim, algorithm=\"ppo\")\n",
    "\n",
    "print(f\"Rollout collector type: {type(shared_agent_sync.rollout_collector)}\")\n",
    "\n",
    "# Test training for 3 epochs with sync rollouts\n",
    "test_config_sync = shared_config\n",
    "test_config_sync.max_epochs = 3\n",
    "shared_trainer_sync = create_trainer(test_config_sync, project_name=f\"{ENV_ID}-shared-sync\", run_name=f\"shared-ppo-sync-{test_config_sync.seed}\")\n",
    "\n",
    "print(f\"Testing training with synchronous rollouts for {test_config_sync.max_epochs} epochs...\")\n",
    "shared_trainer_sync.fit(shared_agent_sync)"
   ]
  }
 ],
 "metadata": {
  "kernelspec": {
   "display_name": ".venv",
   "language": "python",
   "name": "python3"
  },
  "language_info": {
   "codemirror_mode": {
    "name": "ipython",
    "version": 3
   },
   "file_extension": ".py",
   "mimetype": "text/x-python",
   "name": "python",
   "nbconvert_exporter": "python",
   "pygments_lexer": "ipython3",
   "version": "3.10.12"
  }
 },
 "nbformat": 4,
 "nbformat_minor": 5
}
