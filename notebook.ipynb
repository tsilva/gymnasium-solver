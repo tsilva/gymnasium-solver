{
 "cells": [
  {
   "cell_type": "markdown",
   "id": "fae7ff8f",
   "metadata": {},
   "source": [
    "# Environment Solver"
   ]
  },
  {
   "cell_type": "markdown",
   "id": "4ddee31c",
   "metadata": {},
   "source": [
    "Make notebook autoreload when imported repo modules change:"
   ]
  },
  {
   "cell_type": "code",
   "execution_count": 1,
   "id": "768cf7f1",
   "metadata": {},
   "outputs": [],
   "source": [
    "%load_ext autoreload\n",
    "%autoreload 2"
   ]
  },
  {
   "cell_type": "markdown",
   "id": "7192430d",
   "metadata": {},
   "source": [
    "Define which environment we want to solve and with which algorithm:"
   ]
  },
  {
   "cell_type": "code",
   "execution_count": 2,
   "id": "0a074cf9",
   "metadata": {},
   "outputs": [],
   "source": [
    "ENV_ID = \"CartPole-v1\"\n",
    "#ENV_ID = \"LunarLander-v3\"\n",
    "#ALGORITHM = \"reinforce\"\n",
    "ALGO_ID = \"ppo\""
   ]
  },
  {
   "cell_type": "markdown",
   "id": "0b028503",
   "metadata": {},
   "source": [
    "Load secrets:"
   ]
  },
  {
   "cell_type": "code",
   "execution_count": 3,
   "id": "5101c4ca",
   "metadata": {},
   "outputs": [],
   "source": [
    "from tsilva_notebook_utils.colab import load_secrets_into_env\n",
    "_ = load_secrets_into_env(['WANDB_API_KEY'])"
   ]
  },
  {
   "cell_type": "markdown",
   "id": "009c423d",
   "metadata": {},
   "source": [
    "Load training configuration:"
   ]
  },
  {
   "cell_type": "code",
   "execution_count": 4,
   "id": "8d847b88",
   "metadata": {},
   "outputs": [
    {
     "name": "stdout",
     "output_type": "stream",
     "text": [
      "Loaded config for CartPole-v1 with ppo algorithm:\n",
      "RLConfig(env_id='CartPole-v1', seed=42, max_epochs=-1, gamma=0.99, lam=0.95, clip_epsilon=0.2, batch_size=256, train_rollout_steps=2048, eval_interval=20, eval_episodes=5, reward_threshold=475, policy_lr=0.001, value_lr=0.001, hidden_dims=(32,), entropy_coef=0.01, normalize=False, mean_reward_window=100, rollout_interval=1)\n"
     ]
    }
   ],
   "source": [
    "from utils.config import load_config\n",
    "CONFIG = load_config(ENV_ID, ALGO_ID)\n",
    "print(f\"Loaded config for {ENV_ID} with {ALGO_ID} algorithm:\")\n",
    "print(CONFIG)"
   ]
  },
  {
   "cell_type": "markdown",
   "id": "e90fd389",
   "metadata": {},
   "source": [
    "Build environment:"
   ]
  },
  {
   "cell_type": "code",
   "execution_count": 5,
   "id": "7605ffa4",
   "metadata": {},
   "outputs": [
    {
     "name": "stdout",
     "output_type": "stream",
     "text": [
      "Environment Info (SubprocVecEnv with 8 envs)\n",
      "  Env ID: CartPole-v1\n",
      "  Observation space: Box(low=[-4.8, -inf, -0.419, -inf], high=[4.8, inf, 0.419, inf], shape=(4,), dtype=float32)\n",
      "  Action space: Discrete(2)\n",
      "  Max episode steps: 500\n"
     ]
    }
   ],
   "source": [
    "from tsilva_notebook_utils.gymnasium import log_env_info\n",
    "from utils.environment import setup_environment\n",
    "build_env_fn = setup_environment(CONFIG) # TODO: consider getting rid of this method or moving everything inside it\n",
    "env = build_env_fn(CONFIG.seed)\n",
    "log_env_info(env)"
   ]
  },
  {
   "cell_type": "code",
   "execution_count": 6,
   "id": "a69afe6e",
   "metadata": {},
   "outputs": [],
   "source": [
    "from utils.rollouts import SyncRolloutCollector\n",
    "from utils.models import PolicyNet, ValueNet\n",
    "obs_dim = env.observation_space.shape[0]\n",
    "act_dim = env.action_space.n if hasattr(env.action_space, 'n') else env.action_space.shape[0]\n",
    "policy_model = PolicyNet(obs_dim, act_dim, CONFIG.hidden_dims)\n",
    "value_model = ValueNet(obs_dim, CONFIG.hidden_dims) if ALGO_ID == \"ppo\" else None\n",
    "train_rollout_collector = SyncRolloutCollector(\n",
    "    build_env_fn(CONFIG.seed),\n",
    "    policy_model,\n",
    "    value_model=value_model,\n",
    "    n_steps=CONFIG.train_rollout_steps\n",
    ")"
   ]
  },
  {
   "cell_type": "markdown",
   "id": "123f099b",
   "metadata": {},
   "source": [
    "Define models:"
   ]
  },
  {
   "cell_type": "code",
   "execution_count": null,
   "id": "b6bad226",
   "metadata": {},
   "outputs": [],
   "source": [
    "from utils.training import create_trainer\n",
    "from utils.rollouts import SyncRolloutCollector # TODO: restore async functionality\n",
    "from utils.models import PolicyNet, ValueNet\n",
    "from learners.ppo import PPOLearner\n",
    "from learners.reinforce import REINFORCELearner\n",
    "\n",
    "# TODO: make rollout collector clone models?\n",
    "input_dim = env.observation_space.shape[0]\n",
    "output_dim = env.action_space.n\n",
    "policy_model = PolicyNet(input_dim, output_dim, CONFIG.hidden_dims)\n",
    "value_model = ValueNet(input_dim, CONFIG.hidden_dims) if ALGO_ID == \"ppo\" else None # TODO: softcode this better\n",
    "\n",
    "train_rollout_collector = SyncRolloutCollector(\n",
    "    build_env_fn(CONFIG.seed),\n",
    "    policy_model,\n",
    "    value_model=value_model,\n",
    "    n_steps=CONFIG.train_rollout_steps\n",
    ")\n",
    "eval_rollout_collector = SyncRolloutCollector(\n",
    "    # TODO: pass env factory and rebuild env on start/stop? this allows using same rollout collector for final evaluation\n",
    "    build_env_fn(CONFIG.seed + 1000),  # Use a different seed for evaluation\n",
    "    policy_model,\n",
    "    n_episodes=8,\n",
    "    deterministic=True\n",
    ")"
   ]
  },
  {
   "cell_type": "code",
   "execution_count": null,
   "id": "388ccb45",
   "metadata": {},
   "outputs": [
    {
     "name": "stderr",
     "output_type": "stream",
     "text": [
      "/Users/tsilva/repos/tsilva/gymnasium-solver/.venv/lib/python3.12/site-packages/pygame/pkgdata.py:25: UserWarning: pkg_resources is deprecated as an API. See https://setuptools.pypa.io/en/latest/pkg_resources.html. The pkg_resources package is slated for removal as early as 2025-11-30. Refrain from using this package or pin to Setuptools<81.\n",
      "  from pkg_resources import resource_stream, resource_exists\n",
      "/Users/tsilva/repos/tsilva/gymnasium-solver/.venv/lib/python3.12/site-packages/pygame/pkgdata.py:25: UserWarning: pkg_resources is deprecated as an API. See https://setuptools.pypa.io/en/latest/pkg_resources.html. The pkg_resources package is slated for removal as early as 2025-11-30. Refrain from using this package or pin to Setuptools<81.\n",
      "  from pkg_resources import resource_stream, resource_exists\n",
      "/Users/tsilva/repos/tsilva/gymnasium-solver/.venv/lib/python3.12/site-packages/pygame/pkgdata.py:25: UserWarning: pkg_resources is deprecated as an API. See https://setuptools.pypa.io/en/latest/pkg_resources.html. The pkg_resources package is slated for removal as early as 2025-11-30. Refrain from using this package or pin to Setuptools<81.\n",
      "  from pkg_resources import resource_stream, resource_exists\n",
      "/Users/tsilva/repos/tsilva/gymnasium-solver/.venv/lib/python3.12/site-packages/pygame/pkgdata.py:25: UserWarning: pkg_resources is deprecated as an API. See https://setuptools.pypa.io/en/latest/pkg_resources.html. The pkg_resources package is slated for removal as early as 2025-11-30. Refrain from using this package or pin to Setuptools<81.\n",
      "  from pkg_resources import resource_stream, resource_exists\n",
      "/Users/tsilva/repos/tsilva/gymnasium-solver/.venv/lib/python3.12/site-packages/pygame/pkgdata.py:25: UserWarning: pkg_resources is deprecated as an API. See https://setuptools.pypa.io/en/latest/pkg_resources.html. The pkg_resources package is slated for removal as early as 2025-11-30. Refrain from using this package or pin to Setuptools<81.\n",
      "  from pkg_resources import resource_stream, resource_exists\n",
      "/Users/tsilva/repos/tsilva/gymnasium-solver/.venv/lib/python3.12/site-packages/pygame/pkgdata.py:25: UserWarning: pkg_resources is deprecated as an API. See https://setuptools.pypa.io/en/latest/pkg_resources.html. The pkg_resources package is slated for removal as early as 2025-11-30. Refrain from using this package or pin to Setuptools<81.\n",
      "  from pkg_resources import resource_stream, resource_exists\n",
      "/Users/tsilva/repos/tsilva/gymnasium-solver/.venv/lib/python3.12/site-packages/pygame/pkgdata.py:25: UserWarning: pkg_resources is deprecated as an API. See https://setuptools.pypa.io/en/latest/pkg_resources.html. The pkg_resources package is slated for removal as early as 2025-11-30. Refrain from using this package or pin to Setuptools<81.\n",
      "  from pkg_resources import resource_stream, resource_exists\n",
      "/Users/tsilva/repos/tsilva/gymnasium-solver/.venv/lib/python3.12/site-packages/pygame/pkgdata.py:25: UserWarning: pkg_resources is deprecated as an API. See https://setuptools.pypa.io/en/latest/pkg_resources.html. The pkg_resources package is slated for removal as early as 2025-11-30. Refrain from using this package or pin to Setuptools<81.\n",
      "  from pkg_resources import resource_stream, resource_exists\n",
      "2025-07-23 12:39:57.920 python[30522:1240941] +[NSXPCSharedListener endpointForReply:withListenerName:replyErrorCode:]: an error occurred while attempting to obtain endpoint for listener 'ClientCallsAuxiliary': Connection invalid\n",
      "2025-07-23 12:39:57.920 python[30518:1240937] +[NSXPCSharedListener endpointForReply:withListenerName:replyErrorCode:]: an error occurred while attempting to obtain endpoint for listener 'ClientCallsAuxiliary': Connection invalid\n",
      "2025-07-23 12:39:57.921 python[30515:1240933] +[NSXPCSharedListener endpointForReply:withListenerName:replyErrorCode:]: an error occurred while attempting to obtain endpoint for listener 'ClientCallsAuxiliary': Connection invalid\n",
      "2025-07-23 12:39:57.928 python[30519:1240938] +[NSXPCSharedListener endpointForReply:withListenerName:replyErrorCode:]: an error occurred while attempting to obtain endpoint for listener 'ClientCallsAuxiliary': Connection invalid\n",
      "2025-07-23 12:39:57.940 python[30517:1240935] +[NSXPCSharedListener endpointForReply:withListenerName:replyErrorCode:]: an error occurred while attempting to obtain endpoint for listener 'ClientCallsAuxiliary': Connection invalid\n"
     ]
    },
    {
     "data": {
      "text/plain": [
       "{'n_episodes': 8,\n",
       " 'n_steps': 208,\n",
       " 'mean_ep_reward': 12.5,\n",
       " 'mean_ep_length': 12.5}"
      ]
     },
     "execution_count": 23,
     "metadata": {},
     "output_type": "execute_result"
    }
   ],
   "source": [
    "trajectories, stats = eval_rollout_collector.collect(collect_frames=True)\n",
    "stats # TODO: stats don't seem to match the number of episodes, why?"
   ]
  },
  {
   "cell_type": "code",
   "execution_count": null,
   "id": "d13319d2",
   "metadata": {},
   "outputs": [
    {
     "data": {
      "text/html": [
       "<div style=\"max-width:640px\">\n",
       "    <video id=\"vid_b97c754d7a274f3a84592866f31b14ba\" src=\"tmp/video_6b81e4bba77642449f00eb87b407c53d.mp4\" width=\"100%\" controls playsinline\n",
       "            style=\"background:#000\"></video>\n",
       "\n",
       "    <div style=\"font-size:0.9em;margin-top:4px\">\n",
       "    <a href=\"tmp/video_6b81e4bba77642449f00eb87b407c53d.mp4\" target=\"_blank\">🔗 open in new tab (fullscreen ✓)</a>\n",
       "    &nbsp;•&nbsp; double-click video to toggle fullscreen\n",
       "    </div>\n",
       "</div>\n",
       "\n",
       "<script>\n",
       "const v = document.getElementById('vid_b97c754d7a274f3a84592866f31b14ba');\n",
       "v.addEventListener('dblclick', () => {\n",
       "    if (!document.fullscreenElement) {\n",
       "        (v.requestFullscreen || v.webkitRequestFullscreen ||\n",
       "            v.msRequestFullscreen).call(v);\n",
       "    } else {\n",
       "        (document.exitFullscreen || document.webkitExitFullscreen ||\n",
       "            document.msExitFullscreen).call(document);\n",
       "    }\n",
       "});\n",
       "</script>"
      ],
      "text/plain": [
       "<IPython.core.display.HTML object>"
      ]
     },
     "execution_count": 37,
     "metadata": {},
     "output_type": "execute_result"
    }
   ],
   "source": [
    "from evaluation import render_rollouts\n",
    "render_rollouts(eval_rollout_collector, n_episodes=16)"
   ]
  },
  {
   "cell_type": "code",
   "execution_count": null,
   "id": "b7e8054b",
   "metadata": {},
   "outputs": [],
   "source": [
    "\n",
    "algo_id = ALGO_ID.lower()\n",
    "if algo_id == \"ppo\": agent = PPOLearner(CONFIG, train_rollout_collector, policy_model, value_model, eval_rollout_collector=eval_rollout_collector)\n",
    "elif algo_id == \"reinforce\": agent = REINFORCELearner(CONFIG, train_rollout_collector, policy_model, eval_rollout_collector=eval_rollout_collector)\n",
    "\n",
    "# Create trainer with W&B logging\n",
    "# TODO: infer most args\n",
    "trainer = create_trainer(CONFIG, project_name=ENV_ID, run_name=f\"{ALGO_ID}-{CONFIG.seed}\")\n",
    "\n",
    "# Fit the model\n",
    "trainer.fit(agent)"
   ]
  },
  {
   "cell_type": "code",
   "execution_count": null,
   "id": "8966dc5f",
   "metadata": {},
   "outputs": [],
   "source": [
    "from utils.evaluation import evaluate_agent\n",
    "\n",
    "# Evaluate agent and render episodes\n",
    "# TODO: evaluate agent should receive rollout collector as an argument, not the agent and build_env_fn\n",
    "results = evaluate_agent(\n",
    "    agent, \n",
    "    build_env_fn, \n",
    "    n_episodes=8, \n",
    "    deterministic=True, \n",
    "    render=True,\n",
    "    grid=(2, 2), \n",
    "    text_color=(0, 0, 0), \n",
    "    out_dir=\"./tmp\"\n",
    ")\n",
    "\n",
    "print(f\"Mean reward: {results['mean_reward']:.2f}\")"
   ]
  }
 ],
 "metadata": {
  "kernelspec": {
   "display_name": "gymnasium-solver",
   "language": "python",
   "name": "python3"
  },
  "language_info": {
   "codemirror_mode": {
    "name": "ipython",
    "version": 3
   },
   "file_extension": ".py",
   "mimetype": "text/x-python",
   "name": "python",
   "nbconvert_exporter": "python",
   "pygments_lexer": "ipython3",
   "version": "3.12.2"
  }
 },
 "nbformat": 4,
 "nbformat_minor": 5
}
