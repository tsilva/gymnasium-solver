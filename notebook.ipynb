{build_agent
 "cells": [
  {
   "cellbuild_agente",
   "execution_count": null,
   "id": "10b9e8a0",
   "metadata": {},
   "outputs": [],
   "source": [
    "%load_ext autoreload\n",
    "%autoreload 2"
   ]
  },
  {
   "cell_type": "markdown",
   "id": "311c4af3",
   "metadata": {},
   "source": [
    "Create agent:"
   ]
  },
  {
   "cell_type": "code",
   "execution_count": null,
   "id": "dd072d40",
   "metadata": {},
   "outputs": [],
   "source": [
    "from agents import create_agent\n",
    "\n",
    "# TODO: make agent __str__ also print config, make rlconfig have __str__ method\n",
    "agent = create_agent(\"ppo\", \"MountainCar-v0\", n_envs=\"auto\") # TODO: build env_fn inside?\n",
    "agent"
   ]
  },
  {
   "cell_type": "markdown",
   "id": "d2ab52c2",
   "metadata": {},
   "source": [
    "Train agent:"
   ]
  },
  {
   "cell_type": "code",
   "execution_count": null,
   "id": "c45c4f0a",
   "metadata": {},
   "outputs": [],
   "source": [
    "agent.train()"
   ]
  },
  {
   "cell_type": "markdown",
   "id": "f9c11652",
   "metadata": {},
   "source": [
    "Evaluate agent:"
   ]
  },
  {
   "cell_type": "code",
   "execution_count": null,
   "id": "b5301f64",
   "metadata": {},
   "outputs": [],
   "source": [
    "agent.eval_and_render()"
   ]
  }
 ],
 "metadata": {
  "kernelspec": {
   "display_name": "gymnasium-solver-env",
   "language": "python",
   "name": "python3"
  },
  "language_info": {
   "codemirror_mode": {
    "name": "ipython",
    "version": 3
   },
   "file_extension": ".py",
   "mimetype": "text/x-python",
   "name": "python",
   "nbconvert_exporter": "python",
   "pygments_lexer": "ipython3",
   "version": "3.10.18"
  }
 },
 "nbformat": 4,
 "nbformat_minor": 5
}
